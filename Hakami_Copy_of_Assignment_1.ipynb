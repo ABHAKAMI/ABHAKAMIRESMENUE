{
  "nbformat": 4,
  "nbformat_minor": 0,
  "metadata": {
    "colab": {
      "provenance": [],
      "include_colab_link": true
    },
    "kernelspec": {
      "name": "python3",
      "display_name": "Python 3"
    },
    "language_info": {
      "name": "python"
    }
  },
  "cells": [
    {
      "cell_type": "markdown",
      "metadata": {
        "id": "view-in-github",
        "colab_type": "text"
      },
      "source": [
        "<a href=\"https://colab.research.google.com/github/ABHAKAMI/ABHAKAMIRESMENUE/blob/master/Hakami_Copy_of_Assignment_1.ipynb\" target=\"_parent\"><img src=\"https://colab.research.google.com/assets/colab-badge.svg\" alt=\"Open In Colab\"/></a>"
      ]
    },
    {
      "cell_type": "markdown",
      "source": [
        "# Academy: Data Engineering: Assignment 1"
      ],
      "metadata": {
        "id": "RVXHSib5O4_j"
      }
    },
    {
      "cell_type": "code",
      "execution_count": null,
      "metadata": {
        "id": "zfjhA-U0GDXW"
      },
      "outputs": [],
      "source": [
        "!pip install pyspark -q gwpy"
      ]
    },
    {
      "cell_type": "code",
      "source": [
        "import pyspark\n",
        "from pyspark.sql import SparkSession\n",
        "\n",
        "spark = SparkSession.builder.getOrCreate()\n"
      ],
      "metadata": {
        "id": "-x8OFE_JGoNH"
      },
      "execution_count": null,
      "outputs": []
    },
    {
      "cell_type": "code",
      "source": [
        "%%capture\n",
        "!wget https://raw.githubusercontent.com/Ruqyai/Course-DS/ef2eb5cfef26c7b3f1f17c334b6e0ccc02c47a2d/math-raw.csv"
      ],
      "metadata": {
        "id": "pETPL5H9Hc3T"
      },
      "execution_count": null,
      "outputs": []
    },
    {
      "cell_type": "code",
      "source": [
        "!ls"
      ],
      "metadata": {
        "colab": {
          "base_uri": "https://localhost:8080/"
        },
        "id": "Dcc3uZB2NXrE",
        "outputId": "154d013f-cffc-4af8-82da-9ba1ef85cfa5"
      },
      "execution_count": null,
      "outputs": [
        {
          "output_type": "stream",
          "name": "stdout",
          "text": [
            "math-raw.csv  sample_data\n"
          ]
        }
      ]
    },
    {
      "cell_type": "markdown",
      "source": [
        "###Creat spark datafream using the csv file"
      ],
      "metadata": {
        "id": "h8967KXdNgxp"
      }
    },
    {
      "cell_type": "code",
      "source": [
        "df= spark.createDataFrame\n",
        "df = spark.read.format(\"csv\").option(\"header\",\"true\").load(\"/content/math-raw.csv\")\n",
        "df.show()\n"
      ],
      "metadata": {
        "id": "x55Xxax0On0s",
        "outputId": "21b01fed-2626-437e-e789-ee10eb7e9fcf",
        "colab": {
          "base_uri": "https://localhost:8080/"
        }
      },
      "execution_count": null,
      "outputs": [
        {
          "output_type": "stream",
          "name": "stdout",
          "text": [
            "+------+------+----+-------+-------+-------+----+----+--------+--------+----------+--------+----------+---------+--------+---------+------+----+----------+-------+------+--------+--------+------+--------+-----+----+----+------+--------+----+---+---+\n",
            "|school|   sex| age|address|famsize|Pstatus|Medu|Fedu|    Mjob|    Fjob|    reason|guardian|traveltime|studytime|failures|schoolsup|famsup|paid|activities|nursery|higher|internet|romantic|famrel|freetime|goout|Dalc|Walc|health|absences|  G1| G2| G3|\n",
            "+------+------+----+-------+-------+-------+----+----+--------+--------+----------+--------+----------+---------+--------+---------+------+----+----------+-------+------+--------+--------+------+--------+-----+----+----+------+--------+----+---+---+\n",
            "|    GP|     F|  18|      U|    GT3|      A|   4|   4| at_home| teacher|    course|  mother|         2|        2|    null|      yes|    no|  no|        no|    yes|   yes|      no|      no|     4|       ?|    4|   1|   1|     3|     NaN|   5|  6|  6|\n",
            "|    GP|     F|  17|      U|    GT3|      T|   1|   1| at_home|   other|    course|  father|         1|        2|    null|       no|   yes|  no|        no|     no|   yes|     yes|      no|     5|       ?|    3|   1|   1|     3|     NaN|   5|  5|  6|\n",
            "|    GP|Female|  15|      U|    LE3|      T|   1|   1| at_home|   other|     other|  mother|         1|        2|       3|      yes|    no| yes|        no|    yes|   yes|     yes|      no|     4|       3|    2|   2|   3|     3|      10|   7|  8| 10|\n",
            "|    GP|     F|  15|      U|    GT3|      T|   4|   2|  health|services|      home|  mother|         1|        3|       0|       no|   yes| yes|       yes|    yes|   yes|     yes|     yes|     3|       2|    2|   1|   1|     5|       2|  15| 14| 15|\n",
            "|    GP|     F|  16|      U|    GT3|      T|   3|   3|   other|   other|      home|  father|         1|        2|       0|       no|   yes| yes|        no|    yes|   yes|      no|      no|     4|       3|    2|   1|   2|     5|       4|   6| 10| 10|\n",
            "|    GP|  Male|  16|      U|    LE3|      T|   4|   3|services|   other|reputation|  mother|         1|        2|       0|       no|   yes| yes|       yes|    yes|   yes|     yes|      no|     5|       4|    2|   1|   2|     5|      10|  15| 15| 15|\n",
            "|    GP|     M|  16|      U|    LE3|      T|   2|   2|   other|   other|      home|  mother|         1|        2|       0|       no|    no|  no|        no|    yes|   yes|     yes|      no|     4|       4|    4|   1|   1|     3|       0|  12| 12| 11|\n",
            "|  null|  null|null|   null|    GT3|      A|   4|   4|   other| teacher|      home|  mother|         2|        2|       0|      yes|   yes|  no|        no|    yes|   yes|      no|      no|     4|       1|    4|   1|   1|     1|       6|   6|  5|  6|\n",
            "|  null|     M|  15|      U|    LE3|      A|   3|   2|services|   other|      home|  mother|         1|        2|       0|       no|   yes| yes|        no|    yes|   yes|     yes|      no|     4|       2|    2|   1|   1|     1|       0|  16| 18| 19|\n",
            "|  null|     M|  15|      U|    GT3|      T|   3|   4|   other|   other|      home|  mother|         1|        2|       0|       no|   yes| yes|       yes|    yes|   yes|     yes|      no|     5|       5|    1|   1|   1|     5|       0|  14| 15| 15|\n",
            "|  null|     F|  15|      U|    GT3|      T|   4|   4| teacher|  health|reputation|  mother|         1|        2|       0|       no|   yes| yes|        no|    yes|   yes|     yes|      no|     3|       3|    3|   1|   2|     2|       0|  10|  8|  9|\n",
            "|  null|     F|  15|      U|    GT3|      T|   2|   1|services|   other|reputation|  father|         3|        3|       0|       no|   yes|  no|       yes|    yes|   yes|     yes|      no|     5|       2|    2|   1|   1|     4|       4|  10| 12| 12|\n",
            "|  null|     M|  15|      U|    LE3|      T|   4|   4|  health|services|    course|  father|         1|        1|       0|       no|   yes| yes|       yes|    yes|   yes|     yes|      no|     4|       3|    3|   1|   3|     5|       2|  14| 14| 14|\n",
            "|  null|     M|  15|      U|    GT3|      T|   4|   3| teacher|   other|    course|  mother|         2|        2|       0|       no|   yes| yes|        no|    yes|   yes|     yes|      no|     5|       4|    3|   1|   2|     3|       2|null| 10| 11|\n",
            "|  null|     M|  15|      U|    GT3|      A|   2|   2|   other|   other|      home|   other|         1|        3|       0|       no|   yes|  no|        no|    yes|   yes|     yes|     yes|     4|       5|    2|   1|   1|     3|       0|  14| 16| 16|\n",
            "|  null|     F|  16|      U|    GT3|      T|   4|   4|  health|   other|      home|  mother|         1|        1|       0|       no|   yes|  no|        no|    yes|   yes|     yes|      no|     4|       4|    4|   1|   2|     2|       4|  14| 14| 14|\n",
            "|  null|     F|  16|      U|    GT3|      T|   4|   4|services|services|reputation|  mother|         1|        3|       0|       no|   yes| yes|       yes|    yes|   yes|     yes|      no|     3|       2|    3|   1|   2|     2|       6|  13| 14| 14|\n",
            "|  null|     F|  16|      U|    GT3|      T|   3|   3|   other|   other|reputation|  mother|         3|        2|       0|      yes|   yes|  no|       yes|    yes|   yes|      no|      no|     5|       3|    2|   1|   1|     4|       4|   8| 10| 10|\n",
            "|  null|     M|  17|      U|    GT3|      T|   3|   2|services|services|    course|  mother|         1|        1|       3|       no|   yes|  no|       yes|    yes|   yes|     yes|      no|     5|       5|    5|   2|   4|     5|      16|   6|  5|  5|\n",
            "|  null|     M|  16|      U|    LE3|      T|   4|   3|  health|   other|      home|  father|         1|        1|       0|       no|    no| yes|       yes|    yes|   yes|     yes|      no|     3|       1|    3|   1|   3|     5|       4|   8| 10| 10|\n",
            "+------+------+----+-------+-------+-------+----+----+--------+--------+----------+--------+----------+---------+--------+---------+------+----+----------+-------+------+--------+--------+------+--------+-----+----+----+------+--------+----+---+---+\n",
            "only showing top 20 rows\n",
            "\n"
          ]
        }
      ]
    },
    {
      "cell_type": "code",
      "source": [
        "#@title proposed solution\n",
        "#spdf = spark.read.format(\"csv\").option(\"header\",\"true\").load(\"/content/math-raw.csv\")\n",
        "#spdf.show(5)"
      ],
      "metadata": {
        "cellView": "form",
        "id": "9t_4y6qQGpb8"
      },
      "execution_count": null,
      "outputs": []
    },
    {
      "cell_type": "markdown",
      "source": [
        "### Select on column"
      ],
      "metadata": {
        "id": "1ZX4MsA2L5_9"
      }
    },
    {
      "cell_type": "code",
      "source": [
        "df.select(\"age\").show(8)\n"
      ],
      "metadata": {
        "id": "uM8q3kG3HXL_",
        "outputId": "49e412ce-257a-4fc5-8a21-ee33e0cbdd39",
        "colab": {
          "base_uri": "https://localhost:8080/"
        }
      },
      "execution_count": null,
      "outputs": [
        {
          "output_type": "stream",
          "name": "stdout",
          "text": [
            "+----+\n",
            "| age|\n",
            "+----+\n",
            "|  18|\n",
            "|  17|\n",
            "|  15|\n",
            "|  15|\n",
            "|  16|\n",
            "|  16|\n",
            "|  16|\n",
            "|null|\n",
            "+----+\n",
            "only showing top 8 rows\n",
            "\n"
          ]
        }
      ]
    },
    {
      "cell_type": "markdown",
      "source": [
        "### Filter father job to show teachers"
      ],
      "metadata": {
        "id": "xaNP86VjMeMV"
      }
    },
    {
      "cell_type": "code",
      "source": [
        "df.filter(df.Fjob == \"teacher\").show()\n"
      ],
      "metadata": {
        "id": "L_magNLxM0wp",
        "outputId": "e97a9d0d-6162-4021-8763-432dfaa84544",
        "colab": {
          "base_uri": "https://localhost:8080/"
        }
      },
      "execution_count": null,
      "outputs": [
        {
          "output_type": "stream",
          "name": "stdout",
          "text": [
            "+------+----+----+-------+-------+-------+----+----+--------+-------+----------+--------+----------+---------+--------+---------+------+----+----------+-------+------+--------+--------+------+--------+-----+----+----+------+--------+---+---+---+\n",
            "|school| sex| age|address|famsize|Pstatus|Medu|Fedu|    Mjob|   Fjob|    reason|guardian|traveltime|studytime|failures|schoolsup|famsup|paid|activities|nursery|higher|internet|romantic|famrel|freetime|goout|Dalc|Walc|health|absences| G1| G2| G3|\n",
            "+------+----+----+-------+-------+-------+----+----+--------+-------+----------+--------+----------+---------+--------+---------+------+----+----------+-------+------+--------+--------+------+--------+-----+----+----+------+--------+---+---+---+\n",
            "|    GP|   F|  18|      U|    GT3|      A|   4|   4| at_home|teacher|    course|  mother|         2|        2|    null|      yes|    no|  no|        no|    yes|   yes|      no|      no|     4|       ?|    4|   1|   1|     3|     NaN|  5|  6|  6|\n",
            "|  null|null|null|   null|    GT3|      A|   4|   4|   other|teacher|      home|  mother|         2|        2|       0|      yes|   yes|  no|        no|    yes|   yes|      no|      no|     4|       1|    4|   1|   1|     1|       6|  6|  5|  6|\n",
            "|    GP|   M|  16|      U|    GT3|      T|   4|   4| teacher|teacher|      home|  mother|         1|        2|       0|       no|   yes| yes|       yes|    yes|   yes|     yes|     yes|     4|       4|    5|   5|   5|     5|      16| 10| 12| 11|\n",
            "|    GP|   M|  16|      R|    GT3|      A|   4|   4|   other|teacher|reputation|  mother|         2|        3|       0|       no|   yes|  no|       yes|    yes|   yes|     yes|     yes|     2|       4|    3|   1|   1|     5|       7| 15| 16| 15|\n",
            "|    GP|   M|  15|      U|    GT3|      T|   4|   4|services|teacher|    course|  father|         1|        2|       0|       no|   yes|  no|       yes|    yes|   yes|     yes|      no|     4|       3|    3|   1|   1|     5|       2| 19| 18| 18|\n",
            "|    GP|   F|  15|      U|    GT3|      T|   4|   4|services|teacher|     other|  father|         1|        2|       1|      yes|   yes|  no|       yes|     no|   yes|     yes|      no|     4|       4|    4|   1|   1|     3|       2|  7|  7|  7|\n",
            "|    GP|   F|  16|      R|    GT3|      T|   4|   4|  health|teacher|     other|  mother|         1|        2|       0|       no|   yes|  no|       yes|    yes|   yes|      no|      no|     2|       4|    4|   2|   3|     4|       6| 10| 11| 11|\n",
            "|    GP|   M|  16|      U|    GT3|      T|   4|   4|services|teacher|     other|  father|         1|        3|       0|       no|   yes|  no|       yes|    yes|   yes|     yes|     yes|     4|       4|    3|   1|   1|     4|       0| 16| 17| 17|\n",
            "|    GP|   M|  15|      U|    LE3|      A|   4|   4| teacher|teacher|    course|  mother|         1|        1|       0|       no|    no|  no|       yes|    yes|   yes|     yes|      no|     5|       5|    3|   1|   1|     4|       6| 18| 19| 19|\n",
            "|    GP|   M|  16|      U|    GT3|      T|   4|   4| teacher|teacher|    course|  father|         1|        2|       0|       no|   yes|  no|       yes|    yes|   yes|     yes|      no|     5|       4|    4|   1|   2|     5|       2| 15| 15| 16|\n",
            "|    GP|   M|  15|      U|    GT3|      T|   4|   4|   other|teacher|reputation|  father|         2|        2|       0|       no|   yes|  no|       yes|    yes|   yes|      no|      no|     4|       4|    3|   1|   1|     2|       2| 11| 13| 14|\n",
            "|    GP|   M|  16|      R|    GT3|      T|   4|   4| teacher|teacher|    course|  mother|         1|        1|       0|       no|    no| yes|       yes|    yes|   yes|     yes|      no|     3|       5|    5|   2|   5|     4|       8| 18| 18| 18|\n",
            "|    GP|   F|  15|      R|    GT3|      T|   3|   4|services|teacher|    course|  father|         2|        3|       2|       no|   yes|  no|        no|    yes|   yes|     yes|     yes|     4|       2|    2|   2|   2|     5|       0| 12|  0|  0|\n",
            "|    GP|   M|  15|      R|    GT3|      T|   3|   4| at_home|teacher|    course|  mother|         4|        2|       0|       no|   yes|  no|        no|    yes|   yes|      no|     yes|     5|       3|    3|   1|   1|     5|       0|  9|  0|  0|\n",
            "|    GP|   F|  15|      U|    GT3|      T|   4|   4| teacher|teacher|    course|  mother|         2|        1|       0|       no|    no|  no|       yes|    yes|   yes|     yes|      no|     4|       3|    2|   1|   1|     5|       0| 16| 16| 15|\n",
            "|    GP|   M|  16|      U|    GT3|      T|   4|   4| teacher|teacher|    course|  mother|         1|        1|       0|       no|   yes|  no|        no|    yes|    no|     yes|     yes|     3|       3|    2|   2|   1|     5|       0|  7|  6|  0|\n",
            "|    GP|   F|  17|      U|    GT3|      T|   4|   4|   other|teacher|    course|  mother|         1|        1|       0|      yes|   yes|  no|        no|    yes|   yes|      no|     yes|     4|       2|    1|   1|   1|     4|       0| 11| 11| 12|\n",
            "|    GP|   M|  17|      U|    GT3|      T|   4|   4|services|teacher|      home|  mother|         1|        1|       0|       no|    no|  no|        no|    yes|   yes|     yes|      no|     5|       2|    3|   1|   2|     5|       4| 17| 15| 16|\n",
            "|    GP|   F|  17|      U|    GT3|      T|   4|   4|services|teacher|      home|  mother|         2|        1|       1|       no|   yes|  no|        no|    yes|   yes|     yes|      no|     4|       2|    4|   2|   3|     2|      24| 18| 18| 18|\n",
            "|    GP|   F|  16|      U|    LE3|      T|   4|   4| teacher|teacher|reputation|  mother|         1|        2|       0|       no|   yes| yes|        no|    yes|   yes|     yes|      no|     4|       5|    2|   1|   2|     3|       0|  9|  9| 10|\n",
            "+------+----+----+-------+-------+-------+----+----+--------+-------+----------+--------+----------+---------+--------+---------+------+----+----------+-------+------+--------+--------+------+--------+-----+----+----+------+--------+---+---+---+\n",
            "only showing top 20 rows\n",
            "\n"
          ]
        }
      ]
    }
  ]
}